{
 "cells": [
  {
   "cell_type": "markdown",
   "metadata": {
    "collapsed": false
   },
   "source": [
    "![Attention is all you neel1](https://img-blog.csdnimg.cn/20210708195118914.png?x-oss-process=image/watermark,type_ZmFuZ3poZW5naGVpdGk,shadow_10,text_aHR0cHM6Ly9ibG9nLmNzZG4ubmV0L3dlaXhpbl80MTI4NzA2MA==,size_16,color_FFFFFF,t_70)"
   ]
  },
  {
   "cell_type": "markdown",
   "metadata": {
    "collapsed": false
   },
   "source": [
    "![attention2](https://img-blog.csdnimg.cn/20210708200540579.png?x-oss-process=image/watermark,type_ZmFuZ3poZW5naGVpdGk,shadow_10,text_aHR0cHM6Ly9ibG9nLmNzZG4ubmV0L3dlaXhpbl80MTI4NzA2MA==,size_16,color_FFFFFF,t_70)"
   ]
  },
  {
   "cell_type": "markdown",
   "metadata": {
    "collapsed": false
   },
   "source": [
    "![attention3](https://img-blog.csdnimg.cn/20210708201252776.png?x-oss-process=image/watermark,type_ZmFuZ3poZW5naGVpdGk,shadow_10,text_aHR0cHM6Ly9ibG9nLmNzZG4ubmV0L3dlaXhpbl80MTI4NzA2MA==,size_16,color_FFFFFF,t_70)"
   ]
  },
  {
   "cell_type": "markdown",
   "metadata": {
    "collapsed": false
   },
   "source": [
    "![attention4](https://img-blog.csdnimg.cn/20210708202516220.png?x-oss-process=image/watermark,type_ZmFuZ3poZW5naGVpdGk,shadow_10,text_aHR0cHM6Ly9ibG9nLmNzZG4ubmV0L3dlaXhpbl80MTI4NzA2MA==,size_16,color_FFFFFF,t_70)"
   ]
  },
  {
   "cell_type": "markdown",
   "metadata": {
    "collapsed": false
   },
   "source": [
    "![attention5](https://img-blog.csdnimg.cn/20210708202935959.png?x-oss-process=image/watermark,type_ZmFuZ3poZW5naGVpdGk,shadow_10,text_aHR0cHM6Ly9ibG9nLmNzZG4ubmV0L3dlaXhpbl80MTI4NzA2MA==,size_16,color_FFFFFF,t_70)"
   ]
  },
  {
   "cell_type": "markdown",
   "metadata": {
    "collapsed": false
   },
   "source": [
    "![attention6](https://img-blog.csdnimg.cn/20210708203031316.png?x-oss-process=image/watermark,type_ZmFuZ3poZW5naGVpdGk,shadow_10,text_aHR0cHM6Ly9ibG9nLmNzZG4ubmV0L3dlaXhpbl80MTI4NzA2MA==,size_16,color_FFFFFF,t_70)"
   ]
  },
  {
   "cell_type": "markdown",
   "metadata": {
    "collapsed": false
   },
   "source": [
    "![BERT1](https://img-blog.csdnimg.cn/20210708203331393.png?x-oss-process=image/watermark,type_ZmFuZ3poZW5naGVpdGk,shadow_10,text_aHR0cHM6Ly9ibG9nLmNzZG4ubmV0L3dlaXhpbl80MTI4NzA2MA==,size_16,color_FFFFFF,t_70)"
   ]
  },
  {
   "cell_type": "markdown",
   "metadata": {
    "collapsed": false
   },
   "source": [
    "![BERT2](https://img-blog.csdnimg.cn/20210708203502964.png?x-oss-process=image/watermark,type_ZmFuZ3poZW5naGVpdGk,shadow_10,text_aHR0cHM6Ly9ibG9nLmNzZG4ubmV0L3dlaXhpbl80MTI4NzA2MA==,size_16,color_FFFFFF,t_70)"
   ]
  },
  {
   "cell_type": "markdown",
   "metadata": {
    "collapsed": false
   },
   "source": [
    "![BERT3](https://img-blog.csdnimg.cn/20210708204045243.png?x-oss-process=image/watermark,type_ZmFuZ3poZW5naGVpdGk,shadow_10,text_aHR0cHM6Ly9ibG9nLmNzZG4ubmV0L3dlaXhpbl80MTI4NzA2MA==,size_16,color_FFFFFF,t_70)"
   ]
  },
  {
   "cell_type": "markdown",
   "metadata": {
    "collapsed": false
   },
   "source": [
    "![BERT4](https://img-blog.csdnimg.cn/20210708204434528.png?x-oss-process=image/watermark,type_ZmFuZ3poZW5naGVpdGk,shadow_10,text_aHR0cHM6Ly9ibG9nLmNzZG4ubmV0L3dlaXhpbl80MTI4NzA2MA==,size_16,color_FFFFFF,t_70)"
   ]
  },
  {
   "cell_type": "markdown",
   "metadata": {
    "collapsed": false
   },
   "source": [
    "![BERT5](https://img-blog.csdnimg.cn/20210708204552582.png?x-oss-process=image/watermark,type_ZmFuZ3poZW5naGVpdGk,shadow_10,text_aHR0cHM6Ly9ibG9nLmNzZG4ubmV0L3dlaXhpbl80MTI4NzA2MA==,size_16,color_FFFFFF,t_70)"
   ]
  },
  {
   "cell_type": "code",
   "execution_count": null,
   "metadata": {
    "collapsed": false
   },
   "outputs": [],
   "source": [
    "import torch\n",
    "import random\n",
    "import numpy as np\n",
    "config = {\n",
    "    'train_file_path': 'data/data86671/train.csv',\n",
    "    'test_file_path': 'data/data86671/test.csv',\n",
    "    'train_val_ratio': 0.1,\n",
    "\n",
    "    # ------------- 新加代码 --------------- #\n",
    "\n",
    "    # ------------- 新加代码 ----------------#\n",
    "    \n",
    "    'batch_size': 16,   # 我们要使用 BERT , 所以 batch_size 小一点\n",
    "    'num_epochs': 2,\n",
    "    'learning_rate': 2e-5,\n",
    "    'logging_step': 500,\n",
    "    'seed': 2021}\n",
    "\n",
    "config['device']='cuda' if torch.cuda.is_available() else 'cpu'\n",
    "\n",
    "def seed_everything(seed):\n",
    "    random.seed(seed)\n",
    "    np.random.seed(seed)\n",
    "    torch.manual_seed(seed)\n",
    "    torch.cuda.manual_seed_all(seed)\n",
    "    return seed\n",
    "\n",
    "seed_everything(config['seed'])"
   ]
  },
  {
   "cell_type": "code",
   "execution_count": null,
   "metadata": {
    "collapsed": false
   },
   "outputs": [],
   "source": [
    "import pandas as pd\n",
    "from tqdm import tqdm\n",
    "from collections import defaultdict\n",
    "def read_data(config, tokenizer, mode='train'):\n",
    "    data_df = pd.read_csv(config[f'{mode}_file_path'], sep=',')\n",
    "    if mode == 'train':\n",
    "        X_train, y_train = defaultdict(list), []\n",
    "        X_val, y_val = defaultdict(list), []\n",
    "        num_val = int(len(data_df) * config['train_val_ratio'])\n",
    "    else:\n",
    "        X_test, y_test = defaultdict(list), []\n",
    "\n",
    "    for i, row in tqdm(data_df.iterrows(), desc=f'preprocess {mode} data', total=len(data_df)):\n",
    "        label=row[1] if mode == 'train' else 0\n",
    "        sentence = row[-1]\n",
    "\n",
    "        # ---------------------- 新加代码 ---------------------- #\n",
    "   \n",
    "        # ---------------------- 新加代码 ---------------------- #\n",
    "\n",
    "        if mode == 'train':\n",
    "            if i < num_val:\n",
    "                X_val['inputs_ids'].append(inputs['input_ids'])\n",
    "                y_val.append(label)\n",
    "                \n",
    "                # ---------------------- 新加代码 ---------------------- #\n",
    "   \n",
    "                # ---------------------- 新加代码 ---------------------- #\n",
    "                                \n",
    "            else:\n",
    "                X_train['inputs_ids'].append(inputs['input_ids'])\n",
    "                y_train.append(label)\n",
    "\n",
    "                # ---------------------- 新加代码 ---------------------- #\n",
    "   \n",
    "                # ---------------------- 新加代码 ---------------------- #\n",
    "\n",
    "        else:\n",
    "            X_test['inputs_ids'].append(inputs['input_ids'])\n",
    "            y_test.append(label) \n",
    "            # ---------------------- 新加代码 ---------------------- # \n",
    "\n",
    "            # ---------------------- 新加代码 ---------------------- #\n",
    "            \n",
    "\n",
    "    if mode == 'train':\n",
    "        label2id = {label: i for i, label in enumerate(np.unique(y_train))} \n",
    "        id2label = {i: label for label, i in label2id.items()} \n",
    "        y_train = torch.tensor([label2id[i] for i in y_train], dtype=torch.long)  \n",
    "        y_val = torch.tensor([label2id[i] for i in y_val], dtype=torch.long)  \n",
    "        return X_train, y_train, X_val, y_val, label2id, id2label\n",
    "        \n",
    "    else:\n",
    "        y_test = torch.tensor(y_test, dtype=torch.long)\n",
    "        return X_test, y_test"
   ]
  },
  {
   "cell_type": "code",
   "execution_count": null,
   "metadata": {
    "collapsed": false
   },
   "outputs": [],
   "source": [
    "from torch.utils.data import Dataset\n",
    "class TNEWSData(Dataset):\n",
    "    def __init__(self, X, y):\n",
    "        self.x = X\n",
    "        self.y = y\n",
    "\n",
    "    def __getitem__(self, idx):\n",
    "        return {\n",
    "            'inputs_ids' : self.x['inputs_ids'][idx],\n",
    "            'label' : self.y[idx],\n",
    "            # ---------------------- 新加代码 ---------------------- #\n",
    "\n",
    "            # ---------------------- 新加代码 ---------------------- #\n",
    "        }\n",
    "    \n",
    "    def __len__(self):\n",
    "        return self.y.size(0)"
   ]
  },
  {
   "cell_type": "code",
   "execution_count": null,
   "metadata": {
    "collapsed": false
   },
   "outputs": [],
   "source": [
    "def collate_fn(examples):\n",
    "    input_ids_list = []\n",
    "    labels = []\n",
    "    # ---------------------- 新加代码 ---------------------- #\n",
    "\n",
    "    # ---------------------- 新加代码 ---------------------- #\n",
    "\n",
    "    for example in examples:\n",
    "        input_ids_list.append(example['inputs_ids'])\n",
    "        labels.append(example['label'])\n",
    "        # ---------------------- 新加代码 ---------------------- #\n",
    "\n",
    "        # ---------------------- 新加代码 ---------------------- #\n",
    "    \n",
    "    max_length = max(len(input_ids) for input_ids in input_ids_list)\n",
    "    input_ids_tensor = torch.zeros((len(labels), max_length), dtype=torch.long)\n",
    "\n",
    "    # ---------------------- 新加代码 ---------------------- #\n",
    "\n",
    "    # ---------------------- 新加代码 ---------------------- #\n",
    "\n",
    "    for i, input_ids in enumerate(input_ids_list):\n",
    "        input_ids_tensor[i, :len(input_ids)] = torch.tensor(input_ids, dtype=torch.long)\n",
    "        # ---------------------- 新加代码 ---------------------- #\n",
    "\n",
    "        # ---------------------- 新加代码 ---------------------- #\n",
    "    \n",
    "    return{\n",
    "        'input_ids' : input_ids_tensor,\n",
    "        'labels' : torch.tensor(labels, dtype=torch.long),\n",
    "        # ---------------------- 新加代码 ---------------------- #\n",
    "\n",
    "        # ---------------------- 新加代码 ---------------------- #\n",
    "    }"
   ]
  },
  {
   "cell_type": "code",
   "execution_count": null,
   "metadata": {
    "collapsed": false
   },
   "outputs": [],
   "source": [
    "from transformers import BertTokenizer\n",
    "from torch.utils.data import DataLoader\n",
    "def build_dataloader(config):\n",
    "    # ---------------------- 新加代码 ---------------------- #\n",
    "\n",
    "    # ---------------------- 新加代码 ---------------------- #\n",
    "    X_train, y_train, X_val, y_val, label2id, id2label = read_data(config, tokenizer, mode='train')\n",
    "    X_test, y_test = read_data(config, tokenizer, mode='test')\n",
    "\n",
    "    train_dataset = TNEWSData(X_train, y_train)\n",
    "    val_dataset = TNEWSData(X_val, y_val)\n",
    "    test_dataset = TNEWSData(X_test, y_test)\n",
    "\n",
    "    train_dataloader = DataLoader(train_dataset, batch_size=config['batch_size'], num_workers=4, shuffle=True, collate_fn=collate_fn)\n",
    "    val_dataloader = DataLoader(val_dataset, batch_size=config['batch_size'], num_workers=4, shuffle=False, collate_fn=collate_fn)\n",
    "    test_dataloader = DataLoader(test_dataset, batch_size=config['batch_size'], num_workers=4, shuffle=False, collate_fn=collate_fn)\n",
    "\n",
    "    return train_dataloader, val_dataloader, test_dataloader, id2label"
   ]
  },
  {
   "cell_type": "code",
   "execution_count": null,
   "metadata": {
    "collapsed": false
   },
   "outputs": [],
   "source": [
    "train_dataloader, val_dataloader, test_dataloader, id2label = build_dataloader(config)"
   ]
  },
  {
   "cell_type": "code",
   "execution_count": null,
   "metadata": {
    "collapsed": false
   },
   "outputs": [],
   "source": [
    "for batch in train_dataloader:\n",
    "    print(len(batch['input_ids']))\n",
    "    print(batch)\n",
    "    break"
   ]
  },
  {
   "cell_type": "code",
   "execution_count": 1,
   "metadata": {
    "collapsed": false
   },
   "outputs": [],
   "source": [
    "from sklearn.metrics import f1_score\n",
    "def evaluation(config, model, val_dataloader):\n",
    "    model.eval()\n",
    "    preds = []\n",
    "    labels = []\n",
    "    val_loss = 0.\n",
    "    val_iterator = tqdm(val_dataloader, desc='Evaluation', total=len(val_dataloader))\n",
    "\n",
    "    with torch.no_grad():\n",
    "        for batch in val_iterator:\n",
    "            labels.append(batch['labels'])\n",
    "            batch = {item: value.to(config['device']) for item, value in batch.items()}\n",
    "            loss, logits = model(**batch)[:2]\n",
    "\n",
    "            val_loss += loss.item()\n",
    "            preds.append(logits.argmax(dim=-1).detach().cpu())\n",
    "\n",
    "    avg_val_loss = val_loss / len(val_dataloader)\n",
    "    labels = torch.cat(labels, dim=0).numpy()\n",
    "    preds = torch.cat(preds, dim=0).numpy()\n",
    "    f1 = f1_score(labels, preds, average='macro')\n",
    "    return avg_val_loss, f1"
   ]
  },
  {
   "cell_type": "code",
   "execution_count": null,
   "metadata": {
    "collapsed": false
   },
   "outputs": [],
   "source": [
    "# Bert_model train\n",
    "from transformers import BertConfig, BertForSequenceClassification\n",
    "from transformers import AdamW\n",
    "from tqdm import trange\n",
    "def train(config, id2label, train_dataloader, val_dataloader):\n",
    "    # ---------------------- 新加代码 ---------------------- #\n",
    "\n",
    "    # ---------------------- 新加代码 ---------------------- #\n",
    "\n",
    "    optimizer = AdamW(model.parameters(), lr=config['learning_rate'])\n",
    "    model.to(config['device'])\n",
    "    epoch_iterator = trange(config['num_epochs'])\n",
    "    global_steps = 0\n",
    "    train_loss = 0.\n",
    "    logging_loss = 0.\n",
    "\n",
    "    for epoch in epoch_iterator:\n",
    "\n",
    "        train_iterator = tqdm(train_dataloader, desc='Training', total=len(train_dataloader))\n",
    "        model.train()\n",
    "        for batch in train_iterator:\n",
    "            batch = {item: value.to(config['device']) for item, value in batch.items()}\n",
    "\n",
    "            loss = model(**batch)[0]\n",
    "\n",
    "            model.zero_grad()\n",
    "\n",
    "            loss.backward()\n",
    "            \n",
    "            optimizer.step()\n",
    "\n",
    "            train_loss += loss.item()\n",
    "            global_steps += 1\n",
    "\n",
    "            if global_steps % config['logging_step'] == 0:\n",
    "                print_train_loss = (train_loss - logging_loss) / config['logging_step']\n",
    "                logging_loss = train_loss\n",
    "\n",
    "                avg_val_loss, f1 = evaluation(config, model, val_dataloader)\n",
    "\n",
    "                print_log = f'>>> training loss: {print_train_loss:.4f}, valid loss: {avg_val_loss:.4f}, ' \\\n",
    "                            f'valid f1 score: {f1:.4f}'\n",
    "                print(print_log)\n",
    "                model.train()\n",
    "\n",
    "    return model"
   ]
  },
  {
   "cell_type": "code",
   "execution_count": null,
   "metadata": {
    "collapsed": false
   },
   "outputs": [],
   "source": [
    "# Bert 训练\n",
    "model = train(config, id2label, train_dataloader, val_dataloader)"
   ]
  },
  {
   "cell_type": "code",
   "execution_count": null,
   "metadata": {
    "collapsed": false
   },
   "outputs": [],
   "source": [
    "def predict(config, id2label, model, test_dataloader):\n",
    "    test_iterator = tqdm(test_dataloader, desc='Predicting', total=len(test_dataloader))\n",
    "    model.eval()\n",
    "    test_preds = []\n",
    "    with torch.no_grad():\n",
    "        for batch in test_iterator:\n",
    "            batch = {item: value.to(config['device']) for item, value in batch.items()}\n",
    "            logits = model(**batch)[1]\n",
    "\n",
    "            test_preds.append(logits.argmax(dim=-1).detach().cpu())\n",
    "    test_preds = torch.cat(test_preds, dim=0).numpy()\n",
    "    test_preds = [id2label[id_] for id_ in test_preds]\n",
    "    test_df = pd.read_csv(config['test_file_path'], sep=',')\n",
    "    test_df.insert(1, column='label', value=test_preds)\n",
    "    test_df.drop(columns=['sentence'], inplace=True)\n",
    "    test_df.to_csv('submission.csv', index=False, encoding='utf8')"
   ]
  },
  {
   "cell_type": "code",
   "execution_count": null,
   "metadata": {
    "collapsed": false
   },
   "outputs": [],
   "source": []
  },
  {
   "cell_type": "code",
   "execution_count": null,
   "metadata": {
    "collapsed": false
   },
   "outputs": [],
   "source": []
  }
 ],
 "metadata": {
  "kernelspec": {
   "display_name": "PaddlePaddle 1.8.0 (Python 3.5)",
   "language": "python",
   "name": "py35-paddle1.2.0"
  },
  "language_info": {
   "codemirror_mode": {
    "name": "ipython",
    "version": 3
   },
   "file_extension": ".py",
   "mimetype": "text/x-python",
   "name": "python",
   "nbconvert_exporter": "python",
   "pygments_lexer": "ipython3",
   "version": "3.7.4"
  }
 },
 "nbformat": 4,
 "nbformat_minor": 1
}
